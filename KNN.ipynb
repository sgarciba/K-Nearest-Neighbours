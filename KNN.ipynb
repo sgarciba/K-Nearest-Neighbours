{
 "cells": [
  {
   "cell_type": "markdown",
   "metadata": {},
   "source": [
    "# 1.  IRIS DATASET"
   ]
  },
  {
   "cell_type": "code",
   "execution_count": 9,
   "metadata": {},
   "outputs": [],
   "source": [
    "# Import all the packages\n",
    "import numpy as np\n",
    "from math import sqrt\n",
    "from collections import Counter\n",
    "import random\n",
    "from sklearn.datasets import load_iris\n",
    "import pandas as pd\n",
    "import matplotlib.pyplot.as plt"
   ]
  },
  {
   "cell_type": "code",
   "execution_count": 22,
   "metadata": {},
   "outputs": [
    {
     "data": {
      "text/html": [
       "<div>\n",
       "<style scoped>\n",
       "    .dataframe tbody tr th:only-of-type {\n",
       "        vertical-align: middle;\n",
       "    }\n",
       "\n",
       "    .dataframe tbody tr th {\n",
       "        vertical-align: top;\n",
       "    }\n",
       "\n",
       "    .dataframe thead th {\n",
       "        text-align: right;\n",
       "    }\n",
       "</style>\n",
       "<table border=\"1\" class=\"dataframe\">\n",
       "  <thead>\n",
       "    <tr style=\"text-align: right;\">\n",
       "      <th></th>\n",
       "      <th>sepal length (cm)</th>\n",
       "      <th>sepal width (cm)</th>\n",
       "      <th>petal length (cm)</th>\n",
       "      <th>petal width (cm)</th>\n",
       "      <th>target</th>\n",
       "    </tr>\n",
       "  </thead>\n",
       "  <tbody>\n",
       "    <tr>\n",
       "      <th>0</th>\n",
       "      <td>5.1</td>\n",
       "      <td>3.5</td>\n",
       "      <td>1.4</td>\n",
       "      <td>0.2</td>\n",
       "      <td>0.0</td>\n",
       "    </tr>\n",
       "    <tr>\n",
       "      <th>1</th>\n",
       "      <td>5.1</td>\n",
       "      <td>3.5</td>\n",
       "      <td>1.4</td>\n",
       "      <td>0.2</td>\n",
       "      <td>0.0</td>\n",
       "    </tr>\n",
       "    <tr>\n",
       "      <th>2</th>\n",
       "      <td>4.7</td>\n",
       "      <td>3.2</td>\n",
       "      <td>1.3</td>\n",
       "      <td>0.2</td>\n",
       "      <td>0.0</td>\n",
       "    </tr>\n",
       "    <tr>\n",
       "      <th>3</th>\n",
       "      <td>5.1</td>\n",
       "      <td>3.5</td>\n",
       "      <td>1.4</td>\n",
       "      <td>0.2</td>\n",
       "      <td>0.0</td>\n",
       "    </tr>\n",
       "    <tr>\n",
       "      <th>4</th>\n",
       "      <td>4.9</td>\n",
       "      <td>3.0</td>\n",
       "      <td>1.4</td>\n",
       "      <td>0.2</td>\n",
       "      <td>0.0</td>\n",
       "    </tr>\n",
       "  </tbody>\n",
       "</table>\n",
       "</div>"
      ],
      "text/plain": [
       "   sepal length (cm)  sepal width (cm)  petal length (cm)  petal width (cm)  \\\n",
       "0                5.1               3.5                1.4               0.2   \n",
       "1                5.1               3.5                1.4               0.2   \n",
       "2                4.7               3.2                1.3               0.2   \n",
       "3                5.1               3.5                1.4               0.2   \n",
       "4                4.9               3.0                1.4               0.2   \n",
       "\n",
       "   target  \n",
       "0     0.0  \n",
       "1     0.0  \n",
       "2     0.0  \n",
       "3     0.0  \n",
       "4     0.0  "
      ]
     },
     "execution_count": 22,
     "metadata": {},
     "output_type": "execute_result"
    }
   ],
   "source": [
    "# Load iris dataset\n",
    "iris = load_iris()\n",
    "iris_data = iris['data']\n",
    "iris_labels = iris['target']\n",
    "\n",
    "full_iris = np.c_[iris_data, iris_labels]\n",
    "\n",
    "# Shuffle the full data randomly\n",
    "random.shuffle(full_iris)\n",
    "\n",
    "# Create a dataframe\n",
    "full_data = pd.DataFrame(data=full_iris, columns=iris['feature_names'] + [\"target\"])\n",
    "full_data.head()"
   ]
  },
  {
   "cell_type": "code",
   "execution_count": 28,
   "metadata": {},
   "outputs": [
    {
     "name": "stdout",
     "output_type": "stream",
     "text": [
      ".. _iris_dataset:\n",
      "\n",
      "Iris plants dataset\n",
      "--------------------\n",
      "\n",
      "**Data Set Characteristics:**\n",
      "\n",
      "    :Number of Instances: 150 (50 in each of three classes)\n",
      "    :Number of Attributes: 4 numeric, predictive attributes and the class\n",
      "    :Attribute Information:\n",
      "        - sepal length in cm\n",
      "        - sepal width in cm\n",
      "        - petal length in cm\n",
      "        - petal width in cm\n",
      "        - class:\n",
      "                - Iris-Setosa\n",
      "                - Iris-Versicolour\n",
      "                - Iris-Virginica\n",
      "                \n",
      "    :Summary Statistics:\n",
      "\n",
      "    ============== ==== ==== ======= ===== ====================\n",
      "                    Min  Max   Mean    SD   Class Correlation\n",
      "    ============== ==== ==== ======= ===== ====================\n",
      "    sepal length:   4.3  7.9   5.84   0.83    0.7826\n",
      "    sepal width:    2.0  4.4   3.05   0.43   -0.4194\n",
      "    petal length:   1.0  6.9   3.76   1.76    0.9490  (high!)\n",
      "    petal width:    0.1  2.5   1.20   0.76    0.9565  (high!)\n",
      "    ============== ==== ==== ======= ===== ====================\n",
      "\n",
      "    :Missing Attribute Values: None\n",
      "    :Class Distribution: 33.3% for each of 3 classes.\n",
      "    :Creator: R.A. Fisher\n",
      "    :Donor: Michael Marshall (MARSHALL%PLU@io.arc.nasa.gov)\n",
      "    :Date: July, 1988\n",
      "\n",
      "The famous Iris database, first used by Sir R.A. Fisher. The dataset is taken\n",
      "from Fisher's paper. Note that it's the same as in R, but not as in the UCI\n",
      "Machine Learning Repository, which has two wrong data points.\n",
      "\n",
      "This is perhaps the best known database to be found in the\n",
      "pattern recognition literature.  Fisher's paper is a classic in the field and\n",
      "is referenced frequently to this day.  (See Duda & Hart, for example.)  The\n",
      "data set contains 3 classes of 50 instances each, where each class refers to a\n",
      "type of iris plant.  One class is linearly separable from the other 2; the\n",
      "latter are NOT linearly separable from each other.\n",
      "\n",
      ".. topic:: References\n",
      "\n",
      "   - Fisher, R.A. \"The use of multiple measurements in taxonomic problems\"\n",
      "     Annual Eugenics, 7, Part II, 179-188 (1936); also in \"Contributions to\n",
      "     Mathematical Statistics\" (John Wiley, NY, 1950).\n",
      "   - Duda, R.O., & Hart, P.E. (1973) Pattern Classification and Scene Analysis.\n",
      "     (Q327.D83) John Wiley & Sons.  ISBN 0-471-22361-1.  See page 218.\n",
      "   - Dasarathy, B.V. (1980) \"Nosing Around the Neighborhood: A New System\n",
      "     Structure and Classification Rule for Recognition in Partially Exposed\n",
      "     Environments\".  IEEE Transactions on Pattern Analysis and Machine\n",
      "     Intelligence, Vol. PAMI-2, No. 1, 67-71.\n",
      "   - Gates, G.W. (1972) \"The Reduced Nearest Neighbor Rule\".  IEEE Transactions\n",
      "     on Information Theory, May 1972, 431-433.\n",
      "   - See also: 1988 MLC Proceedings, 54-64.  Cheeseman et al\"s AUTOCLASS II\n",
      "     conceptual clustering system finds 3 classes in the data.\n",
      "   - Many, many more ...\n"
     ]
    }
   ],
   "source": [
    "# Distribution of data_labels and other information\n",
    "print(iris['DESCR'])"
   ]
  },
  {
   "cell_type": "code",
   "execution_count": 34,
   "metadata": {},
   "outputs": [
    {
     "data": {
      "image/png": "[encoded data removed]",
      "text/plain": [
       "<Figure size 720x720 with 9 Axes>"
      ]
     },
     "metadata": {},
     "output_type": "display_data"
    }
   ],
   "source": [
    "%matplotlib inline\n",
    "fig, ax = plt.subplots(3, 3, figsize=(10, 10))\n",
    "plt.suptitle(\"iris_pairplot\")\n",
    "\n",
    "for i in range(3):\n",
    "    for j in range(3):\n",
    "        ax[i,j].scatter(iris_data[:,j], iris_data[:,i+1], c=iris_labels, s=20)\n",
    "        ax[i,j].set_xticks(())\n",
    "        ax[i,j].set_yticks(())\n",
    "        if i == 2:\n",
    "            ax[i,j].set_xlabel(iris['feature_names'][j])\n",
    "        if j == 0:\n",
    "            ax[i,j].set_ylabel(iris['feature_names'][i+1])\n",
    "        if j > i:\n",
    "            ax[i,j].set_visible(False)"
   ]
  },
  {
   "cell_type": "code",
   "execution_count": 13,
   "metadata": {},
   "outputs": [],
   "source": [
    "# Split the full data into 75% for training and 25% for testing\n",
    "full_train = full_iris[:int(0.75*len(full_iris))]\n",
    "full_test = full_iris[int(0.75*len(full_iris)):]"
   ]
  },
  {
   "cell_type": "code",
   "execution_count": 16,
   "metadata": {},
   "outputs": [],
   "source": [
    "# Ceate a dictionary for train and test samples classifying each observation with their correct label\n",
    "X_train = {0:[], 1:[], 2:[]}\n",
    "X_test = {0:[], 1:[], 2:[]}\n",
    "\n",
    "for i in full_train:\n",
    "    X_train[i[-1]].append(i[:-1])\n",
    "\n",
    "for i in full_test:\n",
    "    X_test[i[-1]].append(i[:-1])"
   ]
  },
  {
   "cell_type": "code",
   "execution_count": 22,
   "metadata": {},
   "outputs": [],
   "source": [
    "# K Nearest Neighbors function\n",
    "def knn(X_train, X_test, k):\n",
    "    dist = []\n",
    "    for i in X_train:\n",
    "        for j in X_train[i]:\n",
    "            #Euclidean distance formula\n",
    "            euclidean_dist = np.sqrt(np.sum((np.array(j)-np.array(X_test))**2))\n",
    "            #Add to the 'dist' list, the euclidean distance plus its training sample\n",
    "            dist.append([euclidean_dist, i])\n",
    "        #Sort the list from the smallest to the largest result and take the first k observations\n",
    "        neighbors = [i[1] for i in sorted(dist)[:k]]\n",
    "        #Create a dictionary of the neighbors list and take the most common observation \n",
    "        nearest = Counter(neighbors).most_common(1)[0][0]\n",
    "    return nearest"
   ]
  },
  {
   "cell_type": "code",
   "execution_count": 30,
   "metadata": {},
   "outputs": [
    {
     "name": "stdout",
     "output_type": "stream",
     "text": [
      "The error rate is: 0.0526\n",
      "Number of errors: 2\n"
     ]
    }
   ],
   "source": [
    "# Exercise for 1-Nearest Neighbor\n",
    "# Measure the distance of each test sample with every train sample \n",
    "correct = 0\n",
    "count = 0\n",
    "\n",
    "for i in X_test:\n",
    "    for j in X_test[i]:\n",
    "        #Calculate the euclidean distance and return the nearest neighbor label\n",
    "        nearest = knn(X_train, j, 1)\n",
    "        #Verify if the true label is the same as our prediction\n",
    "        if i == nearest:\n",
    "            correct += 1\n",
    "        count += 1\n",
    "print('The error rate is:',round((1-correct/count),4))\n",
    "print('Number of errors:',count-correct)"
   ]
  },
  {
   "cell_type": "code",
   "execution_count": 34,
   "metadata": {},
   "outputs": [
    {
     "name": "stdout",
     "output_type": "stream",
     "text": [
      "The error rate is: 0.0789\n",
      "Number of errors: 3\n"
     ]
    }
   ],
   "source": [
    "# Exercise for 3-Nearest Neighbor\n",
    "# Measure the distance of each test sample with every train sample \n",
    "correct = 0\n",
    "count = 0\n",
    "\n",
    "for i in X_test:\n",
    "    for j in X_test[i]:\n",
    "        # Calculate the euclidean distance and return the nearest neighbor label\n",
    "        nearest = knn(X_train, j, 3)\n",
    "        # Verify if the true label is the same as our prediction\n",
    "        if i == nearest:\n",
    "            correct += 1\n",
    "        count += 1\n",
    "print('The error rate is:',round((1-correct/count),4))\n",
    "print('Number of errors:',count-correct)"
   ]
  },
  {
   "cell_type": "markdown",
   "metadata": {},
   "source": [
    "__Comments:__ The results from the iris dataset show us a clear increase of the error rate from 1NN to 3NN. This fact it is because the possibility of error is higher when we consider more neighbors for our prediction. Even though 1NN is more accurate, we could be overfitting our data.\n",
    "\n",
    "Notice that this function can be also test with any k for NN, we just need to substitute the input number in the knn function."
   ]
  },
  {
   "cell_type": "markdown",
   "metadata": {},
   "source": [
    "# 2. IONOSPHERE DATASET"
   ]
  },
  {
   "cell_type": "code",
   "execution_count": 36,
   "metadata": {},
   "outputs": [],
   "source": [
    "# Load the ionosphere dataset\n",
    "X = np.genfromtxt(\"ionosphere.txt\", delimiter=\",\",\n",
    "usecols=np.arange(34))\n",
    "y = np.genfromtxt(\"ionosphere.txt\", delimiter=\",\",\n",
    "usecols=34, dtype='int')"
   ]
  },
  {
   "cell_type": "code",
   "execution_count": 47,
   "metadata": {},
   "outputs": [
    {
     "name": "stdout",
     "output_type": "stream",
     "text": [
      "X shape: (351, 34)\n",
      "Y shape: (351,)\n"
     ]
    }
   ],
   "source": [
    "print(f'X shape: {X.shape}\\nY shape: {y.shape}')"
   ]
  },
  {
   "cell_type": "code",
   "execution_count": 45,
   "metadata": {},
   "outputs": [
    {
     "data": {
      "text/html": [
       "<div>\n",
       "<style scoped>\n",
       "    .dataframe tbody tr th:only-of-type {\n",
       "        vertical-align: middle;\n",
       "    }\n",
       "\n",
       "    .dataframe tbody tr th {\n",
       "        vertical-align: top;\n",
       "    }\n",
       "\n",
       "    .dataframe thead th {\n",
       "        text-align: right;\n",
       "    }\n",
       "</style>\n",
       "<table border=\"1\" class=\"dataframe\">\n",
       "  <thead>\n",
       "    <tr style=\"text-align: right;\">\n",
       "      <th></th>\n",
       "      <th>X1</th>\n",
       "      <th>X2</th>\n",
       "      <th>X3</th>\n",
       "      <th>X4</th>\n",
       "      <th>X5</th>\n",
       "      <th>X6</th>\n",
       "      <th>X7</th>\n",
       "      <th>X8</th>\n",
       "      <th>X9</th>\n",
       "      <th>X10</th>\n",
       "      <th>...</th>\n",
       "      <th>X26</th>\n",
       "      <th>X27</th>\n",
       "      <th>X28</th>\n",
       "      <th>X29</th>\n",
       "      <th>X30</th>\n",
       "      <th>X31</th>\n",
       "      <th>X32</th>\n",
       "      <th>X33</th>\n",
       "      <th>X34</th>\n",
       "      <th>Y</th>\n",
       "    </tr>\n",
       "  </thead>\n",
       "  <tbody>\n",
       "    <tr>\n",
       "      <th>0</th>\n",
       "      <td>1.0</td>\n",
       "      <td>0.0</td>\n",
       "      <td>0.99539</td>\n",
       "      <td>-0.05889</td>\n",
       "      <td>0.85243</td>\n",
       "      <td>0.02306</td>\n",
       "      <td>0.83398</td>\n",
       "      <td>-0.37708</td>\n",
       "      <td>1.00000</td>\n",
       "      <td>0.03760</td>\n",
       "      <td>...</td>\n",
       "      <td>-0.51171</td>\n",
       "      <td>0.41078</td>\n",
       "      <td>-0.46168</td>\n",
       "      <td>0.21266</td>\n",
       "      <td>-0.34090</td>\n",
       "      <td>0.42267</td>\n",
       "      <td>-0.54487</td>\n",
       "      <td>0.18641</td>\n",
       "      <td>-0.45300</td>\n",
       "      <td>1.0</td>\n",
       "    </tr>\n",
       "    <tr>\n",
       "      <th>1</th>\n",
       "      <td>1.0</td>\n",
       "      <td>0.0</td>\n",
       "      <td>1.00000</td>\n",
       "      <td>-0.18829</td>\n",
       "      <td>0.93035</td>\n",
       "      <td>-0.36156</td>\n",
       "      <td>-0.10868</td>\n",
       "      <td>-0.93597</td>\n",
       "      <td>1.00000</td>\n",
       "      <td>-0.04549</td>\n",
       "      <td>...</td>\n",
       "      <td>-0.26569</td>\n",
       "      <td>-0.20468</td>\n",
       "      <td>-0.18401</td>\n",
       "      <td>-0.19040</td>\n",
       "      <td>-0.11593</td>\n",
       "      <td>-0.16626</td>\n",
       "      <td>-0.06288</td>\n",
       "      <td>-0.13738</td>\n",
       "      <td>-0.02447</td>\n",
       "      <td>-1.0</td>\n",
       "    </tr>\n",
       "    <tr>\n",
       "      <th>2</th>\n",
       "      <td>1.0</td>\n",
       "      <td>0.0</td>\n",
       "      <td>1.00000</td>\n",
       "      <td>-0.03365</td>\n",
       "      <td>1.00000</td>\n",
       "      <td>0.00485</td>\n",
       "      <td>1.00000</td>\n",
       "      <td>-0.12062</td>\n",
       "      <td>0.88965</td>\n",
       "      <td>0.01198</td>\n",
       "      <td>...</td>\n",
       "      <td>-0.40220</td>\n",
       "      <td>0.58984</td>\n",
       "      <td>-0.22145</td>\n",
       "      <td>0.43100</td>\n",
       "      <td>-0.17365</td>\n",
       "      <td>0.60436</td>\n",
       "      <td>-0.24180</td>\n",
       "      <td>0.56045</td>\n",
       "      <td>-0.38238</td>\n",
       "      <td>1.0</td>\n",
       "    </tr>\n",
       "    <tr>\n",
       "      <th>3</th>\n",
       "      <td>1.0</td>\n",
       "      <td>0.0</td>\n",
       "      <td>1.00000</td>\n",
       "      <td>-0.45161</td>\n",
       "      <td>1.00000</td>\n",
       "      <td>1.00000</td>\n",
       "      <td>0.71216</td>\n",
       "      <td>-1.00000</td>\n",
       "      <td>0.00000</td>\n",
       "      <td>0.00000</td>\n",
       "      <td>...</td>\n",
       "      <td>0.90695</td>\n",
       "      <td>0.51613</td>\n",
       "      <td>1.00000</td>\n",
       "      <td>1.00000</td>\n",
       "      <td>-0.20099</td>\n",
       "      <td>0.25682</td>\n",
       "      <td>1.00000</td>\n",
       "      <td>-0.32382</td>\n",
       "      <td>1.00000</td>\n",
       "      <td>-1.0</td>\n",
       "    </tr>\n",
       "    <tr>\n",
       "      <th>4</th>\n",
       "      <td>1.0</td>\n",
       "      <td>0.0</td>\n",
       "      <td>1.00000</td>\n",
       "      <td>-0.02401</td>\n",
       "      <td>0.94140</td>\n",
       "      <td>0.06531</td>\n",
       "      <td>0.92106</td>\n",
       "      <td>-0.23255</td>\n",
       "      <td>0.77152</td>\n",
       "      <td>-0.16399</td>\n",
       "      <td>...</td>\n",
       "      <td>-0.65158</td>\n",
       "      <td>0.13290</td>\n",
       "      <td>-0.53206</td>\n",
       "      <td>0.02431</td>\n",
       "      <td>-0.62197</td>\n",
       "      <td>-0.05707</td>\n",
       "      <td>-0.59573</td>\n",
       "      <td>-0.04608</td>\n",
       "      <td>-0.65697</td>\n",
       "      <td>1.0</td>\n",
       "    </tr>\n",
       "  </tbody>\n",
       "</table>\n",
       "<p>5 rows × 35 columns</p>\n",
       "</div>"
      ],
      "text/plain": [
       "    X1   X2       X3       X4       X5       X6       X7       X8       X9  \\\n",
       "0  1.0  0.0  0.99539 -0.05889  0.85243  0.02306  0.83398 -0.37708  1.00000   \n",
       "1  1.0  0.0  1.00000 -0.18829  0.93035 -0.36156 -0.10868 -0.93597  1.00000   \n",
       "2  1.0  0.0  1.00000 -0.03365  1.00000  0.00485  1.00000 -0.12062  0.88965   \n",
       "3  1.0  0.0  1.00000 -0.45161  1.00000  1.00000  0.71216 -1.00000  0.00000   \n",
       "4  1.0  0.0  1.00000 -0.02401  0.94140  0.06531  0.92106 -0.23255  0.77152   \n",
       "\n",
       "       X10 ...       X26      X27      X28      X29      X30      X31  \\\n",
       "0  0.03760 ...  -0.51171  0.41078 -0.46168  0.21266 -0.34090  0.42267   \n",
       "1 -0.04549 ...  -0.26569 -0.20468 -0.18401 -0.19040 -0.11593 -0.16626   \n",
       "2  0.01198 ...  -0.40220  0.58984 -0.22145  0.43100 -0.17365  0.60436   \n",
       "3  0.00000 ...   0.90695  0.51613  1.00000  1.00000 -0.20099  0.25682   \n",
       "4 -0.16399 ...  -0.65158  0.13290 -0.53206  0.02431 -0.62197 -0.05707   \n",
       "\n",
       "       X32      X33      X34    Y  \n",
       "0 -0.54487  0.18641 -0.45300  1.0  \n",
       "1 -0.06288 -0.13738 -0.02447 -1.0  \n",
       "2 -0.24180  0.56045 -0.38238  1.0  \n",
       "3  1.00000 -0.32382  1.00000 -1.0  \n",
       "4 -0.59573 -0.04608 -0.65697  1.0  \n",
       "\n",
       "[5 rows x 35 columns]"
      ]
     },
     "execution_count": 45,
     "metadata": {},
     "output_type": "execute_result"
    }
   ],
   "source": [
    "# Join the samples and their labels\n",
    "full_ionosphere=np.c_[X,y]\n",
    "\n",
    "col_names = list(map(lambda x: f'X{x}', range(1,35)))\n",
    "\n",
    "# Create a dataframe\n",
    "iono_data = pd.DataFrame(full_ionosphere, columns=col_names+['Y'])\n",
    "iono_data.head()"
   ]
  },
  {
   "cell_type": "code",
   "execution_count": 43,
   "metadata": {},
   "outputs": [],
   "source": [
    "# Shuffle the full data randomly\n",
    "random.shuffle(full_ionosphere)"
   ]
  },
  {
   "cell_type": "code",
   "execution_count": 45,
   "metadata": {},
   "outputs": [],
   "source": [
    "# Split the full data into 75% for training and 25% for testing\n",
    "train_data = full_ionosphere[:int(0.75*len(full_ionosphere))]\n",
    "test_data = full_ionosphere[int(0.75*len(full_ionosphere)):]"
   ]
  },
  {
   "cell_type": "code",
   "execution_count": 47,
   "metadata": {},
   "outputs": [],
   "source": [
    "# Ceate a dictionary for train and test samples classifying each observation with their correct label\n",
    "X_train = {1:[],-1:[]}\n",
    "X_test = {1:[],-1:[]}\n",
    "for i in train_data:\n",
    "    X_train[i[-1]].append(i[:-1])\n",
    "\n",
    "for i in test_data:\n",
    "    X_test[i[-1]].append(i[:-1])"
   ]
  },
  {
   "cell_type": "code",
   "execution_count": 48,
   "metadata": {},
   "outputs": [
    {
     "name": "stdout",
     "output_type": "stream",
     "text": [
      "The error rate is: 0.0568\n",
      "Number of errors: 5\n"
     ]
    }
   ],
   "source": [
    "# Exercise for 1-Nearest Neighbor\n",
    "# Measure the distance of each test sample with every train sample \n",
    "correct = 0\n",
    "count = 0\n",
    "\n",
    "for i in X_test:\n",
    "    for j in X_test[i]:\n",
    "        # Calculate the euclidean distance and return the nearest neighbor label\n",
    "        nearest = knn(X_train, j, 1)\n",
    "        # Verify if the true label is the same as our prediction\n",
    "        if i == nearest:\n",
    "            correct += 1\n",
    "        count += 1\n",
    "print('The error rate is:',round((1-correct/count),4))\n",
    "print('Number of errors:',count-correct)"
   ]
  },
  {
   "cell_type": "code",
   "execution_count": 49,
   "metadata": {},
   "outputs": [
    {
     "name": "stdout",
     "output_type": "stream",
     "text": [
      "The error rate is: 0.0795\n",
      "Number of errors: 7\n"
     ]
    }
   ],
   "source": [
    "# Exercise for 3-Nearest Neighbor\n",
    "# Measure the distance of each test sample with every train sample \n",
    "correct = 0\n",
    "count = 0\n",
    "\n",
    "for i in X_test:\n",
    "    for j in X_test[i]:\n",
    "        # Calculate the euclidean distance and return the nearest neighbor label\n",
    "        nearest = knn(X_train, j, 3)\n",
    "        # Verify if the true label is the same as our prediction\n",
    "        if i == nearest:\n",
    "            correct += 1\n",
    "        count += 1\n",
    "print('The error rate is:',round((1-correct/count),4))\n",
    "print('Number of errors:',count-correct)"
   ]
  },
  {
   "cell_type": "markdown",
   "metadata": {},
   "source": [
    "__Comments__: The results from the ionosphere dataset show us similar error rates as the iris example from 1NN to 3NN. This fact, it is probably for the same reason, the number of neighbors. Then, we could be facing the same issue of overfitting our data. \n",
    "\n",
    "The main difference between the two examples is the number of errors, which is higher in the second dataset. The error rates are similar, because the data size of the ionosphere is bigger. \n",
    "\n",
    "Notice that this function can be also test with any k for NN, we just need to substitute the number in the knn() function."
   ]
  }
 ],
 "metadata": {
  "kernelspec": {
   "display_name": "Python 3",
   "language": "python",
   "name": "python3"
  },
  "language_info": {
   "codemirror_mode": {
    "name": "ipython",
    "version": 3
   },
   "file_extension": ".py",
   "mimetype": "text/x-python",
   "name": "python",
   "nbconvert_exporter": "python",
   "pygments_lexer": "ipython3",
   "version": "3.6.9"
  }
 },
 "nbformat": 4,
 "nbformat_minor": 2
}
